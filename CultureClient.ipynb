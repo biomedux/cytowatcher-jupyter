{
 "cells": [
  {
   "cell_type": "code",
   "execution_count": 1,
   "metadata": {},
   "outputs": [
    {
     "name": "stdout",
     "output_type": "stream",
     "text": [
      "ch \t R \t C \n",
      "1:\t1021.3\t9.7\n",
      "2:\t2024.8\t9.8\n",
      "3:\t3015.7\t10.9\n",
      "4:\t3890.3\t10.0\n",
      "5:\t5081.3\t9.4\n",
      "6:\t6136.5\t11.0\n",
      "7:\t6821.4\t9.7\n",
      "8:\t8138.2\t9.4\n",
      "\n",
      "{'freqs': [4000], 'period': 1, 'channels': [0, 1, 2, 3, 4, 5, 6, 7], 'deadline': 60, 'begintime': '2017-11-30 17:56:43', 'isPaused': False}\n"
     ]
    }
   ],
   "source": [
    "import rpyc\n",
    "\n",
    "import numpy as np\n",
    "\n",
    "conn=rpyc.connect('localhost',18861,config={'allow_pickle': True})\n",
    "\n",
    "Z=conn.root.checkChip()\n",
    "mdatastr = 'ch \\t R \\t C \\n' \n",
    "for i in range(8):\n",
    "    R=Z[i][0].real\n",
    "    w=2*np.pi*4e3\n",
    "    C=1/(w*Z[i][0].imag)*1e9\n",
    "    Rs = '%.1f'%R\n",
    "    Cs = '%.1f'%-C\n",
    "    mdatastr += str(i+1) +':\\t'+Rs+'\\t'+Cs+ '\\n' \n",
    "print mdatastr\n",
    "\n",
    "print conn.root.getRecordingInfo()"
   ]
  },
  {
   "cell_type": "code",
   "execution_count": 2,
   "metadata": {},
   "outputs": [
    {
     "name": "stdout",
     "output_type": "stream",
     "text": [
      "[[(2011.060874106912-2044.9994288578823j)]]\n"
     ]
    }
   ],
   "source": [
    "Z=conn.root.measureImpedance(1,8000)\n",
    "print Z"
   ]
  },
  {
   "cell_type": "code",
   "execution_count": 3,
   "metadata": {},
   "outputs": [
    {
     "data": {
      "text/plain": [
       "{'channels': [0, 1, 2, 3, 4, 5, 6, 7], 'freqs': [4000, 8000], 'deadline': 10, 'period': 1, 'isPaused': False}"
      ]
     },
     "execution_count": 3,
     "metadata": {},
     "output_type": "execute_result"
    }
   ],
   "source": [
    "RecordingInfo = {\n",
    "    'isPaused': False,\n",
    "    'channels': range(8),\n",
    "    'freqs': [4000, 8000],\n",
    "    'period': 1,\n",
    "    'deadline': 10\n",
    "}\n",
    "\n",
    "conn.root.setup(RecordingInfo)\n",
    "conn.root.getStatus()\n",
    "conn.root.getRecordingInfo()"
   ]
  },
  {
   "cell_type": "code",
   "execution_count": 4,
   "metadata": {},
   "outputs": [],
   "source": [
    "conn.root.recording()"
   ]
  },
  {
   "cell_type": "code",
   "execution_count": 31,
   "metadata": {
    "collapsed": true
   },
   "outputs": [],
   "source": [
    "conn.root.finish()"
   ]
  },
  {
   "cell_type": "code",
   "execution_count": 50,
   "metadata": {},
   "outputs": [
    {
     "name": "stdout",
     "output_type": "stream",
     "text": [
      "data copying\n",
      "fitting sine\n",
      "fitting curve generation\n",
      "now plotting\n"
     ]
    },
    {
     "data": {
      "image/png": "[encoded data removed]",
      "text/plain": [
       "<matplotlib.figure.Figure at 0x9524630>"
      ]
     },
     "metadata": {},
     "output_type": "display_data"
    }
   ],
   "source": [
    "run fitExample.py"
   ]
  },
  {
   "cell_type": "code",
   "execution_count": 4,
   "metadata": {
    "collapsed": true
   },
   "outputs": [],
   "source": [
    "from firebase import firebase\n",
    "\n",
    "firebase = firebase.FirebaseApplication(\"https://culturesystem-5f82b.firebaseio.com/\")"
   ]
  },
  {
   "cell_type": "code",
   "execution_count": 5,
   "metadata": {},
   "outputs": [
    {
     "data": {
      "text/plain": [
       "u'setup_ok'"
      ]
     },
     "execution_count": 5,
     "metadata": {},
     "output_type": "execute_result"
    }
   ],
   "source": [
    "device_num = '/Device_0/'\n",
    "\n",
    "RecordingInfo = {\n",
    "\t'isPaused': False,\n",
    "\t'channels': str(range(8)),\n",
    "\t'freqs': '[4000]',\n",
    "\t'period': 1,\n",
    "\t'deadline': 10\n",
    "}\n",
    "\n",
    "firebase.put('/', 'SETUP', RecordingInfo)\n",
    "firebase.put('/', 'COMMAND', 'start')\n"
   ]
  },
  {
   "cell_type": "code",
   "execution_count": 6,
   "metadata": {},
   "outputs": [
    {
     "data": {
      "text/plain": [
       "u'setup'"
      ]
     },
     "execution_count": 6,
     "metadata": {},
     "output_type": "execute_result"
    }
   ],
   "source": [
    "firebase.put(device_num, 'COMMAND', 'setup')"
   ]
  },
  {
   "cell_type": "code",
   "execution_count": 7,
   "metadata": {},
   "outputs": [
    {
     "data": {
      "text/plain": [
       "u'start'"
      ]
     },
     "execution_count": 7,
     "metadata": {},
     "output_type": "execute_result"
    }
   ],
   "source": [
    "firebase.put(device_num, 'COMMAND', 'start')"
   ]
  },
  {
   "cell_type": "code",
   "execution_count": 8,
   "metadata": {},
   "outputs": [
    {
     "data": {
      "text/plain": [
       "u'stop'"
      ]
     },
     "execution_count": 8,
     "metadata": {},
     "output_type": "execute_result"
    }
   ],
   "source": [
    "firebase.put(device_num, 'COMMAND', 'stop')"
   ]
  },
  {
   "cell_type": "code",
   "execution_count": null,
   "metadata": {
    "collapsed": true
   },
   "outputs": [],
   "source": []
  }
 ],
 "metadata": {
  "kernelspec": {
   "display_name": "Python 3",
   "language": "python",
   "name": "python3"
  },
  "language_info": {
   "codemirror_mode": {
    "name": "ipython",
    "version": 3
   },
   "file_extension": ".py",
   "mimetype": "text/x-python",
   "name": "python",
   "nbconvert_exporter": "python",
   "pygments_lexer": "ipython3",
   "version": "3.6.4"
  }
 },
 "nbformat": 4,
 "nbformat_minor": 2
}
