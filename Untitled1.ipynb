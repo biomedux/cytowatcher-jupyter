{
 "cells": [
  {
   "cell_type": "code",
   "execution_count": 2,
   "metadata": {},
   "outputs": [],
   "source": [
    "import rpyc\n",
    "\n",
    "import numpy as np\n",
    "\n",
    "conn=rpyc.connect('localhost',18861,config={'allow_pickle': True})\n",
    "\n",
    "Z=conn.root.checkChip()\n",
    "mdatastr = 'ch \\t R \\t C \\n' \n",
    "for i in range(8):\n",
    "    R=Z[i][0].real\n",
    "    w=2*np.pi*4e3\n",
    "    C=1/(w*Z[i][0].imag)*1e9\n",
    "    Rs = '%.1f'%R\n",
    "    Cs = '%.1f'%-C\n",
    "    mdatastr += str(i+1) +':\\t'+Rs+'\\t'+Cs+ '\\n' \n",
    "print mdatastr"
   ]
  }
 ],
 "metadata": {
  "kernelspec": {
   "display_name": "Python 2",
   "language": "python",
   "name": "python2"
  },
  "language_info": {
   "codemirror_mode": {
    "name": "ipython",
    "version": 2
   },
   "file_extension": ".py",
   "mimetype": "text/x-python",
   "name": "python",
   "nbconvert_exporter": "python",
   "pygments_lexer": "ipython2",
   "version": "2.7.13"
  }
 },
 "nbformat": 4,
 "nbformat_minor": 2
}
