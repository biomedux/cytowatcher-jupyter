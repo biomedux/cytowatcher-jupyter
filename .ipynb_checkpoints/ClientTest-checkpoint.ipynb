{
 "cells": [
  {
   "cell_type": "code",
   "execution_count": 15,
   "metadata": {
    "collapsed": false
   },
   "outputs": [],
   "source": [
    "######## 아래 부분을 진행하기 전 이 부분을 1회 실행해야 합니다. ########\n",
    "from firebase import firebase\n",
    "\n",
    "# firebase = firebase.FirebaseApplication(\"https://culturesystem-5f82b.firebaseio.com/\")\n",
    "firebase = firebase.FirebaseApplication(\"https://culturetest-pso.firebaseio.com/\")"
   ]
  },
  {
   "cell_type": "code",
   "execution_count": 16,
   "metadata": {
    "collapsed": false
   },
   "outputs": [
    {
     "name": "stdout",
     "output_type": "stream",
     "text": [
      "실험명을 입력하세요(한글 불가능)\n",
      "test11\n",
      "실험이 시작되었습니다.\n"
     ]
    }
   ],
   "source": [
    "########## 실험 시작할때 ##########\n",
    "\n",
    "\n",
    "\n",
    "print(\"실험명을 입력하세요(한글 불가능)\")\n",
    "user_input = raw_input()\n",
    "\n",
    "RecordingInfo = {\n",
    "\t'channels': str(range(8)),\n",
    "\t'freqs': '[4000]',\n",
    "\t'period': 1,\n",
    "\t'deadline': 10,\n",
    "    'experiment_name': user_input\n",
    "}\n",
    "\n",
    "getData = firebase.get('/', None)\n",
    "\n",
    "tempKeys = [str(x) for x in getData.keys()]\n",
    "\n",
    "if (RecordingInfo['experiment_name'] in tempKeys):\n",
    "    print(\"실험명이 이미 존재합니다.\")\n",
    "else:\n",
    "    if (getData['DEVICESTATE'] == 'ready'):\n",
    "        firebase.put('/', 'SETUP', RecordingInfo)\n",
    "        firebase.put('/', 'COMMAND', 'start')\n",
    "        \n",
    "        while(1):\n",
    "            getData = firebase.get('/DEVICESTATE', None)\n",
    "            if (getData == 'running'):\n",
    "                print(\"실험이 시작되었습니다.\")\n",
    "                break\n",
    "    else:\n",
    "        print(\"디바이스가 준비상태가 아닙니다.\")"
   ]
  },
  {
   "cell_type": "code",
   "execution_count": 5,
   "metadata": {
    "collapsed": false
   },
   "outputs": [
    {
     "name": "stdout",
     "output_type": "stream",
     "text": [
      "실험이 종료되었습니다.\n"
     ]
    }
   ],
   "source": [
    "######### 실험 종료할때 #########\n",
    "\n",
    "firebase.put('/', 'COMMAND', 'stop')\n",
    "\n",
    "while(1):\n",
    "    getData = firebase.get('/DEVICESTATE', None)\n",
    "    \n",
    "    if (getData == 'ready'):\n",
    "        print(\"실험이 종료되었습니다.\")\n",
    "        break"
   ]
  },
  {
   "cell_type": "code",
   "execution_count": 17,
   "metadata": {
    "collapsed": false
   },
   "outputs": [
    {
     "data": {
      "text/plain": [
       "True"
      ]
     },
     "execution_count": 17,
     "metadata": {},
     "output_type": "execute_result"
    }
   ],
   "source": [
    "######## 일시정지 ###########\n",
    "\n",
    "firebase.put('/', 'PAUSE', True)"
   ]
  },
  {
   "cell_type": "code",
   "execution_count": 19,
   "metadata": {
    "collapsed": false
   },
   "outputs": [
    {
     "data": {
      "text/plain": [
       "False"
      ]
     },
     "execution_count": 19,
     "metadata": {},
     "output_type": "execute_result"
    }
   ],
   "source": [
    "######## 일시정지 해제 ###########\n",
    "\n",
    "firebase.put('/', 'PAUSE', False)"
   ]
  },
  {
   "cell_type": "code",
   "execution_count": 18,
   "metadata": {
    "collapsed": false
   },
   "outputs": [
    {
     "name": "stdout",
     "output_type": "stream",
     "text": [
      "ch \t R \t C \n",
      "1:\t1014.4\t9.6\n",
      "2:\t2024.1\t9.7\n",
      "3:\t3011.2\t10.5\n",
      "4:\t3884.8\t9.8\n",
      "5:\t5074.6\t9.3\n",
      "6:\t6130.9\t10.6\n",
      "7:\t6814.6\t9.6\n",
      "8:\t8136.4\t9.3\n",
      "\n"
     ]
    }
   ],
   "source": [
    "######## 체크칩 ##########\n",
    "\n",
    "\n",
    "import rpyc\n",
    "\n",
    "import numpy as np\n",
    "\n",
    "conn=rpyc.connect('localhost',18861,config={'allow_pickle': True})\n",
    "\n",
    "Z=conn.root.checkChip()\n",
    "mdatastr = 'ch \\t R \\t C \\n' \n",
    "for i in range(8):\n",
    "    R=Z[i][0].real\n",
    "    w=2*np.pi*4e3\n",
    "    C=1/(w*Z[i][0].imag)*1e9\n",
    "    Rs = '%.1f'%R\n",
    "    Cs = '%.1f'%-C\n",
    "    mdatastr += str(i+1) +':\\t'+Rs+'\\t'+Cs+ '\\n' \n",
    "print mdatastr"
   ]
  },
  {
   "cell_type": "code",
   "execution_count": null,
   "metadata": {
    "collapsed": true
   },
   "outputs": [],
   "source": []
  }
 ],
 "metadata": {
  "kernelspec": {
   "display_name": "Python 2",
   "language": "python",
   "name": "python2"
  },
  "language_info": {
   "codemirror_mode": {
    "name": "ipython",
    "version": 2
   },
   "file_extension": ".py",
   "mimetype": "text/x-python",
   "name": "python",
   "nbconvert_exporter": "python",
   "pygments_lexer": "ipython2",
   "version": "2.7.13"
  }
 },
 "nbformat": 4,
 "nbformat_minor": 2
}
